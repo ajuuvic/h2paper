{
 "cells": [
  {
   "cell_type": "markdown",
   "metadata": {},
   "source": [
    "# Supplementary Materials\n",
    "\n",
    "This notebook contains additional text and tables supporting themes outlined in the paper.  The companion notebook contains code used to generate the tables and plots used in the paper.\n",
    "\n",
    "### Addenda: \n",
    "\n",
    "The following information is new or was written after the Nov 22 draft copy.\n",
    "\n",
    "  * **3:** H2 Compression energy in Diaphgragm compressors\n",
    "  * **5:** [nov 28] liquid pathway transport error bar correction\n",
    "  * **7:** Acknowledgements\n",
    "\n",
    "### Links\n",
    "\n",
    "  * Notebook with [Plots and Tables](Plots.ipynb)\n",
    "      * [Pathways plot](Plots.ipynb#Pathway-Plot) - #error -- No anchors on GitHub"
   ]
  },
  {
   "cell_type": "markdown",
   "metadata": {},
   "source": [
    "# Section 3"
   ]
  },
  {
   "cell_type": "markdown",
   "metadata": {},
   "source": [
    "## **NEW** Energy in H2  Diaphragm Compressors\n",
    "\n",
    "**New information coming this week** -- Actual observed compression energy for multistage diaphragm compressors at 1000 kg/day, for various step-ups.\n",
    "\n",
    "By discussion with Jim Patrecky, Director of Hydrogen Energy, PDC Machines"
   ]
  },
  {
   "cell_type": "markdown",
   "metadata": {},
   "source": [
    "## Diverted H2 Calcuation\n",
    "\n",
    "$$Q_{proc}\t=\\eta_{boiler}\\times LHV_{H_{2}}\\times M_{H_{2}}\\\\\n",
    "\t=\\eta_{electric}\\times E_{electric}\\\\\n",
    "\\frac{E_{electric}}{M_{H_{2}}}\t=\\frac{\\eta_{boiler}}{\\eta_{electric}}\\times LHV_{H_{2}}\\\\\n",
    "\t\\approx\\frac{80\\%}{100\\%}\\times33.3\\,kWh/kg\\\\\n",
    "\t=27\\,kWh/kg\n",
    "$$    "
   ]
  },
  {
   "cell_type": "markdown",
   "metadata": {},
   "source": [
    "## Steam-Methane Reformation\n",
    "\n",
    "Although the process is not currently in use in BC, 95% of 2014 bulk hydrogen production in the US was created with steam methane reformation, at a cost that varies directly with the cost of feedstock, but in the neighbourhood of C$2.30/kg for centralized production[20].\n",
    "\n",
    "There are three essential elements to a typical implementation of the process: Steam-methane reformation (SMR) to crack the natural gas, the water-gas shift reaction to convert the CO by-product[21], and pressure-swing adsorption (PSA) to separate the H2 gas from the CO2, unreacted water and CO, and any other impurities[22].  These reactions are described thus:\n",
    "\n",
    "\tCH4 + H2O + heat -> CO + 3H2\t(SMR)\n",
    "\tCO+H2O -> CO2 + H2 + heat\t(Gas Shift)\n",
    "\tH2+Others ->(H2) + (Others)\t(PSA)\n",
    "    \n",
    "Clearly, the reformation step emits a molecule of CO2 for every four molecules of H2, implying a theoretical conversion intensity of 7.27 kg CO2/kg H2, exclusive of heat input and energy required for the PSA step – and real values are reported from 8.9 to 12.9 kg CO2eq/kg H2[23].  Praxair, a major producer of hydrogen, suggests that the actual conversion intensity at their Houston plant is at the lower end of this range, at 8.91 kg CO2/kg H2[24].  \n",
    "\n",
    "[20] USDRIVE, “Hydrogen Production Tech Team Roadmap,” no. November, 2017.\n",
    "\n",
    "[21]\tP. Nikolaidis and A. Poullikkas, “A comparative overview of hydrogen production processes,” Renew. Sustain. Energy Rev., vol. 67, pp. 597–611, 2017.\n",
    "\n",
    "[22]\tS.-L. C. Tobias Keller, Linde Engineering & Goutam Shahani, “PSA Technology: Beyond Hydrogen Purification.” .\n",
    "\n",
    "[23]\tR. Bhandari, C. A. Trudewind, and P. Zapp, “Life cycle assessment of hydrogen production via electrolysis–a review,” J. Clean. Prod., vol. 85, pp. 151–163, 2014.\n",
    "\n",
    "[24]\tD. Bonaquist, “Analysis of CO 2 Emissions , Reductions , and Capture for Large-Scale Hydrogen Production Plants,” no. 1, p. 9, 2010."
   ]
  },
  {
   "cell_type": "markdown",
   "metadata": {},
   "source": [
    "## Other Fuels\n",
    "\n",
    "Hydrogen can also be generated from other fuels, although none in production volumes in North America.   The processes reviewed in this section are summarized from [25], and all include both gasification (the high-temperature conversion of the feedstock to simpler gas-phase molecules) and steam reformation (reacting a source gas with water to split a water molecule and provide an additional hydrogen molecule).\n",
    "\n",
    "**Coal Gasification:** Coal is abundant, but has a typical composition of CH0.8.  This relatively high proportion of carbon results in a high rate of carbon emission, barring more effective means of carbon capture than are currently available. \n",
    "\n",
    "**Alcohol Reformation:** Ethanol and methanol have desirable physical characteristics and good energy density, and are a standard carrier for biomass energy.  Biomass conversion is particularly attractive since all directly-released carbon is renewable– it will be reabsorbed when the crop is regrown.  However, this pathway has a relatively high GWP due to (a) high energy input in harvesting and processing the feedstock to alcohol, and (b) land use costs associated with growing the feedstock. Additionally, the agricultural feedstocks use arable land, and tend to compete directly with food crops, resulting in political complications[26].\n",
    "\n",
    "**Biomass Gasification:**  This pathway is the direct gasification of waste biomass such as logging residue and corn stover.  The use of waste biomass addresses many of the problems associated with the alcohol pathway described above.  The remaining impact is due to process energy input – highly dependent on the energy sources used to process the input feedstock.\n",
    "\n",
    "[25] *A. Mehmeti, A. Angelis-Dimakis, G. Arampatzis, S. McPhail, and S. Ulgiati, “Life Cycle Assessment and Water Footprint of Hydrogen Production Methods: From Conventional to Emerging Technologies,” Environments, vol. 5, no. 2, p. 24, 2018.*\n",
    "\n",
    "[26] *J. Popp, Z. Lakner, M. Harangi-Rákos, and M. Fári, “The effect of bioenergy expansion: Food, energy, and environment,” Renew. Sustain. Energy Rev., vol. 32, pp. 559–578, 2014.*"
   ]
  },
  {
   "cell_type": "markdown",
   "metadata": {},
   "source": [
    "## US GWP for H2 Production\n",
    "\n",
    "For the sake of a more general comparison, the table below is extracted from [25].  It shows the full lifecycle (LCA) GWP in terms of kg CO2e per kg of hydrogen, for various production pathways using US grid power.  LCA values are similar to W2W values, but also include the construction and decommissioning of necessary specialized infrastructure and sometimes end-use equipment, assuming a technology life of 20 years. \n",
    "\n",
    "These values are based on various US-based assumptions for the intensity of the feedstock and electrical inputs, and do not attempt to normalize for pressurization energy; output pressures in the source literature referenced by [25] vary from atmospheric to 1000psi – this introduces uncertainty on the order of about 0.3-2 kg CO2e/kg H2, depending on the regional carbon intensity of the electricity used for compression.\n",
    "\n",
    "[25] *A. Mehmeti, A. Angelis-Dimakis, G. Arampatzis, S. McPhail, and S. Ulgiati, “Life Cycle Assessment and Water Footprint of Hydrogen Production Methods: From Conventional to Emerging Technologies,” Environments, vol. 5, no. 2, p. 24, 2018.*"
   ]
  },
  {
   "cell_type": "code",
   "execution_count": 3,
   "metadata": {},
   "outputs": [
    {
     "data": {
      "text/markdown": [
       "### Table: US Production GWP ($kg\\ CO_2e\\ /\\ kg\\ H_2$)"
      ],
      "text/plain": [
       "<IPython.core.display.Markdown object>"
      ]
     },
     "metadata": {},
     "output_type": "display_data"
    },
    {
     "data": {
      "text/html": [
       "<div>\n",
       "<style scoped>\n",
       "    .dataframe tbody tr th:only-of-type {\n",
       "        vertical-align: middle;\n",
       "    }\n",
       "\n",
       "    .dataframe tbody tr th {\n",
       "        vertical-align: top;\n",
       "    }\n",
       "\n",
       "    .dataframe thead th {\n",
       "        text-align: right;\n",
       "    }\n",
       "</style>\n",
       "<table border=\"1\" class=\"dataframe\">\n",
       "  <thead>\n",
       "    <tr style=\"text-align: right;\">\n",
       "      <th></th>\n",
       "      <th>kg</th>\n",
       "      <th>Pathway</th>\n",
       "      <th>Modifier</th>\n",
       "      <th>Description</th>\n",
       "    </tr>\n",
       "  </thead>\n",
       "  <tbody>\n",
       "    <tr>\n",
       "      <th>0</th>\n",
       "      <td>29.54</td>\n",
       "      <td>E-PEM</td>\n",
       "      <td>None</td>\n",
       "      <td>Electrolysis, PEM, grid</td>\n",
       "    </tr>\n",
       "    <tr>\n",
       "      <th>1</th>\n",
       "      <td>24.2</td>\n",
       "      <td>CG</td>\n",
       "      <td>None</td>\n",
       "      <td>Coal gasification</td>\n",
       "    </tr>\n",
       "    <tr>\n",
       "      <th>2</th>\n",
       "      <td>23.32</td>\n",
       "      <td>E-SOEC</td>\n",
       "      <td>None</td>\n",
       "      <td>Electrolysis, SOEC, grid</td>\n",
       "    </tr>\n",
       "    <tr>\n",
       "      <th>3</th>\n",
       "      <td>14.02</td>\n",
       "      <td>BDL-E-W</td>\n",
       "      <td>Wheat</td>\n",
       "      <td>Biomass Reformation - Wheat</td>\n",
       "    </tr>\n",
       "    <tr>\n",
       "      <th>4</th>\n",
       "      <td>12.13</td>\n",
       "      <td>SMR</td>\n",
       "      <td>None</td>\n",
       "      <td>Steam methane reforming</td>\n",
       "    </tr>\n",
       "    <tr>\n",
       "      <th>5</th>\n",
       "      <td>9.193</td>\n",
       "      <td>BDL-E-C</td>\n",
       "      <td>Corn</td>\n",
       "      <td>Biomass Reformation - Corn</td>\n",
       "    </tr>\n",
       "    <tr>\n",
       "      <th>6</th>\n",
       "      <td>5.1</td>\n",
       "      <td>E-SOEC-R</td>\n",
       "      <td>Wind</td>\n",
       "      <td>Electrolysis, SOEC, wind</td>\n",
       "    </tr>\n",
       "    <tr>\n",
       "      <th>7</th>\n",
       "      <td>2.67</td>\n",
       "      <td>BMG</td>\n",
       "      <td>None</td>\n",
       "      <td>Biomass Gasification</td>\n",
       "    </tr>\n",
       "    <tr>\n",
       "      <th>8</th>\n",
       "      <td>2.21</td>\n",
       "      <td>E-PEM-R</td>\n",
       "      <td>Wind</td>\n",
       "      <td>Electrolysis, PEM, wind</td>\n",
       "    </tr>\n",
       "  </tbody>\n",
       "</table>\n",
       "</div>"
      ],
      "text/plain": [
       "0     kg   Pathway Modifier                  Description\n",
       "0  29.54     E-PEM     None      Electrolysis, PEM, grid\n",
       "1   24.2        CG     None            Coal gasification\n",
       "2  23.32    E-SOEC     None     Electrolysis, SOEC, grid\n",
       "3  14.02   BDL-E-W    Wheat  Biomass Reformation - Wheat\n",
       "4  12.13       SMR     None      Steam methane reforming\n",
       "5  9.193   BDL-E-C     Corn   Biomass Reformation - Corn\n",
       "6    5.1  E-SOEC-R     Wind     Electrolysis, SOEC, wind\n",
       "7   2.67       BMG     None         Biomass Gasification\n",
       "8   2.21   E-PEM-R     Wind      Electrolysis, PEM, wind"
      ]
     },
     "execution_count": 3,
     "metadata": {},
     "output_type": "execute_result"
    }
   ],
   "source": [
    "import pandas as pd\n",
    "from IPython.display import display, Markdown, Latex\n",
    "import utils\n",
    "df = utils.data_frame_from_xlsx(\"Paper_tables.xlsx\",\"us_elec_chart\",True)\n",
    "display(Markdown('### Table: US Production GWP ($kg\\ CO_2e\\ /\\ kg\\ H_2$)'))\n",
    "df"
   ]
  },
  {
   "cell_type": "code",
   "execution_count": 8,
   "metadata": {},
   "outputs": [
    {
     "data": {
      "text/plain": [
       "<matplotlib.axes._subplots.AxesSubplot at 0x26c77634940>"
      ]
     },
     "execution_count": 8,
     "metadata": {},
     "output_type": "execute_result"
    },
    {
     "data": {
      "image/png": "[encoded data removed]",
      "text/plain": [
       "<Figure size 432x288 with 1 Axes>"
      ]
     },
     "metadata": {
      "needs_background": "light"
     },
     "output_type": "display_data"
    }
   ],
   "source": [
    "df.kg.hist()"
   ]
  },
  {
   "cell_type": "markdown",
   "metadata": {},
   "source": [
    "\n",
    "\n"
   ]
  },
  {
   "cell_type": "markdown",
   "metadata": {},
   "source": [
    "# Section 6\n",
    "## Average fleet fuel economy\n",
    "This table shows the total potential displacement of RPP (refined petroleum product) ICE fuel for road vehicles.  Data is extracted from [37].\n",
    "\n",
    "The RPP:H2 displacement ratio is calculated as:\n",
    "$$ \\frac{Total\\ RPP}{Total\\ H2}\n",
    "= \\frac{6361\\ ML}{819\\ kt} = \\frac{6,361 \\times 10^6\\ L}{526\\times 10^6 \\ kg}\\\\\n",
    "= 7.77\\ L\\ RPP/kg\\ H_2$$\n",
    "\n",
    "[37] H. Talebian and M. Tran, “POTENTIAL FOR HYDROGEN AS A TRANSPORTATION FUEL IN BRITISH COLUMBIA : RESOURCE ASSESSMENT AND GHG EMISSIONS ANALYSIS,” vol. 1, no. 604, pp. 1–13, 2017."
   ]
  },
  {
   "cell_type": "code",
   "execution_count": 30,
   "metadata": {},
   "outputs": [
    {
     "data": {
      "text/html": [
       "<style  type=\"text/css\" >\n",
       "    #T_f6d48686_ee76_11e8_8197_38d547b56f48row6_col0 {\n",
       "            font-weight:  bold;\n",
       "        }    #T_f6d48686_ee76_11e8_8197_38d547b56f48row6_col1 {\n",
       "            font-weight:  bold;\n",
       "        }    #T_f6d48686_ee76_11e8_8197_38d547b56f48row6_col2 {\n",
       "            font-weight:  bold;\n",
       "        }    #T_f6d48686_ee76_11e8_8197_38d547b56f48row6_col3 {\n",
       "            font-weight:  bold;\n",
       "        }    #T_f6d48686_ee76_11e8_8197_38d547b56f48row6_col4 {\n",
       "            font-weight:  bold;\n",
       "        }    #T_f6d48686_ee76_11e8_8197_38d547b56f48row6_col5 {\n",
       "            font-weight:  bold;\n",
       "        }    #T_f6d48686_ee76_11e8_8197_38d547b56f48row6_col6 {\n",
       "            font-weight:  bold;\n",
       "        }    #T_f6d48686_ee76_11e8_8197_38d547b56f48row6_col7 {\n",
       "            font-weight:  bold;\n",
       "        }    #T_f6d48686_ee76_11e8_8197_38d547b56f48row6_col8 {\n",
       "            font-weight:  bold;\n",
       "        }    #T_f6d48686_ee76_11e8_8197_38d547b56f48row6_col9 {\n",
       "            font-weight:  bold;\n",
       "        }    #T_f6d48686_ee76_11e8_8197_38d547b56f48row6_col10 {\n",
       "            font-weight:  bold;\n",
       "        }</style>  \n",
       "<table id=\"T_f6d48686_ee76_11e8_8197_38d547b56f48\" > \n",
       "<thead>    <tr> \n",
       "        <th class=\"index_name level0\" >0</th> \n",
       "        <th class=\"col_heading level0 col0\" >Type</th> \n",
       "        <th class=\"col_heading level0 col1\" ># of Vehicles</th> \n",
       "        <th class=\"col_heading level0 col2\" >Total Distance (Mkm/y)</th> \n",
       "        <th class=\"col_heading level0 col3\" >ICE econ (km/L)</th> \n",
       "        <th class=\"col_heading level0 col4\" >RPP Fuel Type</th> \n",
       "        <th class=\"col_heading level0 col5\" >Average Distance (km/y)</th> \n",
       "        <th class=\"col_heading level0 col6\" >Total RPP  (ML)</th> \n",
       "        <th class=\"col_heading level0 col7\" >Fossil CO2e (kt)</th> \n",
       "        <th class=\"col_heading level0 col8\" >FCEV econ  (km/kg H2)</th> \n",
       "        <th class=\"col_heading level0 col9\" >Total H2 (kt)</th> \n",
       "        <th class=\"col_heading level0 col10\" >H2 CO2e (kt)</th> \n",
       "    </tr>    <tr> \n",
       "        <th class=\"index_name level0\" >Type</th> \n",
       "        <th class=\"blank\" ></th> \n",
       "        <th class=\"blank\" ></th> \n",
       "        <th class=\"blank\" ></th> \n",
       "        <th class=\"blank\" ></th> \n",
       "        <th class=\"blank\" ></th> \n",
       "        <th class=\"blank\" ></th> \n",
       "        <th class=\"blank\" ></th> \n",
       "        <th class=\"blank\" ></th> \n",
       "        <th class=\"blank\" ></th> \n",
       "        <th class=\"blank\" ></th> \n",
       "        <th class=\"blank\" ></th> \n",
       "    </tr></thead> \n",
       "<tbody>    <tr> \n",
       "        <th id=\"T_f6d48686_ee76_11e8_8197_38d547b56f48level0_row0\" class=\"row_heading level0 row0\" >Car</th> \n",
       "        <td id=\"T_f6d48686_ee76_11e8_8197_38d547b56f48row0_col0\" class=\"data row0 col0\" >Car</td> \n",
       "        <td id=\"T_f6d48686_ee76_11e8_8197_38d547b56f48row0_col1\" class=\"data row0 col1\" >1577150</td> \n",
       "        <td id=\"T_f6d48686_ee76_11e8_8197_38d547b56f48row0_col2\" class=\"data row0 col2\" >18026.8</td> \n",
       "        <td id=\"T_f6d48686_ee76_11e8_8197_38d547b56f48row0_col3\" class=\"data row0 col3\" >12.5</td> \n",
       "        <td id=\"T_f6d48686_ee76_11e8_8197_38d547b56f48row0_col4\" class=\"data row0 col4\" >g</td> \n",
       "        <td id=\"T_f6d48686_ee76_11e8_8197_38d547b56f48row0_col5\" class=\"data row0 col5\" >11430</td> \n",
       "        <td id=\"T_f6d48686_ee76_11e8_8197_38d547b56f48row0_col6\" class=\"data row0 col6\" >1442.15</td> \n",
       "        <td id=\"T_f6d48686_ee76_11e8_8197_38d547b56f48row0_col7\" class=\"data row0 col7\" >3172.72</td> \n",
       "        <td id=\"T_f6d48686_ee76_11e8_8197_38d547b56f48row0_col8\" class=\"data row0 col8\" >106</td> \n",
       "        <td id=\"T_f6d48686_ee76_11e8_8197_38d547b56f48row0_col9\" class=\"data row0 col9\" >170.064</td> \n",
       "        <td id=\"T_f6d48686_ee76_11e8_8197_38d547b56f48row0_col10\" class=\"data row0 col10\" >109.268</td> \n",
       "    </tr>    <tr> \n",
       "        <th id=\"T_f6d48686_ee76_11e8_8197_38d547b56f48level0_row1\" class=\"row_heading level0 row1\" >LDPT</th> \n",
       "        <td id=\"T_f6d48686_ee76_11e8_8197_38d547b56f48row1_col0\" class=\"data row1 col0\" >LDPT</td> \n",
       "        <td id=\"T_f6d48686_ee76_11e8_8197_38d547b56f48row1_col1\" class=\"data row1 col1\" >1087951</td> \n",
       "        <td id=\"T_f6d48686_ee76_11e8_8197_38d547b56f48row1_col2\" class=\"data row1 col2\" >13891</td> \n",
       "        <td id=\"T_f6d48686_ee76_11e8_8197_38d547b56f48row1_col3\" class=\"data row1 col3\" >8.69565</td> \n",
       "        <td id=\"T_f6d48686_ee76_11e8_8197_38d547b56f48row1_col4\" class=\"data row1 col4\" >g</td> \n",
       "        <td id=\"T_f6d48686_ee76_11e8_8197_38d547b56f48row1_col5\" class=\"data row1 col5\" >12768</td> \n",
       "        <td id=\"T_f6d48686_ee76_11e8_8197_38d547b56f48row1_col6\" class=\"data row1 col6\" >1597.46</td> \n",
       "        <td id=\"T_f6d48686_ee76_11e8_8197_38d547b56f48row1_col7\" class=\"data row1 col7\" >3514.41</td> \n",
       "        <td id=\"T_f6d48686_ee76_11e8_8197_38d547b56f48row1_col8\" class=\"data row1 col8\" >75</td> \n",
       "        <td id=\"T_f6d48686_ee76_11e8_8197_38d547b56f48row1_col9\" class=\"data row1 col9\" >185.213</td> \n",
       "        <td id=\"T_f6d48686_ee76_11e8_8197_38d547b56f48row1_col10\" class=\"data row1 col10\" >119.001</td> \n",
       "    </tr>    <tr> \n",
       "        <th id=\"T_f6d48686_ee76_11e8_8197_38d547b56f48level0_row2\" class=\"row_heading level0 row2\" >LDFT</th> \n",
       "        <td id=\"T_f6d48686_ee76_11e8_8197_38d547b56f48row2_col0\" class=\"data row2 col0\" >LDFT</td> \n",
       "        <td id=\"T_f6d48686_ee76_11e8_8197_38d547b56f48row2_col1\" class=\"data row2 col1\" >420589</td> \n",
       "        <td id=\"T_f6d48686_ee76_11e8_8197_38d547b56f48row2_col2\" class=\"data row2 col2\" >5408.35</td> \n",
       "        <td id=\"T_f6d48686_ee76_11e8_8197_38d547b56f48row2_col3\" class=\"data row2 col3\" >8.54701</td> \n",
       "        <td id=\"T_f6d48686_ee76_11e8_8197_38d547b56f48row2_col4\" class=\"data row2 col4\" >g</td> \n",
       "        <td id=\"T_f6d48686_ee76_11e8_8197_38d547b56f48row2_col5\" class=\"data row2 col5\" >12859</td> \n",
       "        <td id=\"T_f6d48686_ee76_11e8_8197_38d547b56f48row2_col6\" class=\"data row2 col6\" >632.777</td> \n",
       "        <td id=\"T_f6d48686_ee76_11e8_8197_38d547b56f48row2_col7\" class=\"data row2 col7\" >1392.11</td> \n",
       "        <td id=\"T_f6d48686_ee76_11e8_8197_38d547b56f48row2_col8\" class=\"data row2 col8\" >62</td> \n",
       "        <td id=\"T_f6d48686_ee76_11e8_8197_38d547b56f48row2_col9\" class=\"data row2 col9\" >87.2315</td> \n",
       "        <td id=\"T_f6d48686_ee76_11e8_8197_38d547b56f48row2_col10\" class=\"data row2 col10\" >56.047</td> \n",
       "    </tr>    <tr> \n",
       "        <th id=\"T_f6d48686_ee76_11e8_8197_38d547b56f48level0_row3\" class=\"row_heading level0 row3\" >MDT</th> \n",
       "        <td id=\"T_f6d48686_ee76_11e8_8197_38d547b56f48row3_col0\" class=\"data row3 col0\" >MDT</td> \n",
       "        <td id=\"T_f6d48686_ee76_11e8_8197_38d547b56f48row3_col1\" class=\"data row3 col1\" >154982</td> \n",
       "        <td id=\"T_f6d48686_ee76_11e8_8197_38d547b56f48row3_col2\" class=\"data row3 col2\" >3908.65</td> \n",
       "        <td id=\"T_f6d48686_ee76_11e8_8197_38d547b56f48row3_col3\" class=\"data row3 col3\" >4.54545</td> \n",
       "        <td id=\"T_f6d48686_ee76_11e8_8197_38d547b56f48row3_col4\" class=\"data row3 col4\" >g</td> \n",
       "        <td id=\"T_f6d48686_ee76_11e8_8197_38d547b56f48row3_col5\" class=\"data row3 col5\" >25220</td> \n",
       "        <td id=\"T_f6d48686_ee76_11e8_8197_38d547b56f48row3_col6\" class=\"data row3 col6\" >859.902</td> \n",
       "        <td id=\"T_f6d48686_ee76_11e8_8197_38d547b56f48row3_col7\" class=\"data row3 col7\" >1891.78</td> \n",
       "        <td id=\"T_f6d48686_ee76_11e8_8197_38d547b56f48row3_col8\" class=\"data row3 col8\" >35</td> \n",
       "        <td id=\"T_f6d48686_ee76_11e8_8197_38d547b56f48row3_col9\" class=\"data row3 col9\" >111.676</td> \n",
       "        <td id=\"T_f6d48686_ee76_11e8_8197_38d547b56f48row3_col10\" class=\"data row3 col10\" >71.7525</td> \n",
       "    </tr>    <tr> \n",
       "        <th id=\"T_f6d48686_ee76_11e8_8197_38d547b56f48level0_row4\" class=\"row_heading level0 row4\" >MDT-D</th> \n",
       "        <td id=\"T_f6d48686_ee76_11e8_8197_38d547b56f48row4_col0\" class=\"data row4 col0\" >MDT-D</td> \n",
       "        <td id=\"T_f6d48686_ee76_11e8_8197_38d547b56f48row4_col1\" class=\"data row4 col1\" >154982</td> \n",
       "        <td id=\"T_f6d48686_ee76_11e8_8197_38d547b56f48row4_col2\" class=\"data row4 col2\" >3908.65</td> \n",
       "        <td id=\"T_f6d48686_ee76_11e8_8197_38d547b56f48row4_col3\" class=\"data row4 col3\" >4.60829</td> \n",
       "        <td id=\"T_f6d48686_ee76_11e8_8197_38d547b56f48row4_col4\" class=\"data row4 col4\" >d</td> \n",
       "        <td id=\"T_f6d48686_ee76_11e8_8197_38d547b56f48row4_col5\" class=\"data row4 col5\" >25220</td> \n",
       "        <td id=\"T_f6d48686_ee76_11e8_8197_38d547b56f48row4_col6\" class=\"data row4 col6\" >848.176</td> \n",
       "        <td id=\"T_f6d48686_ee76_11e8_8197_38d547b56f48row4_col7\" class=\"data row4 col7\" >2189.99</td> \n",
       "        <td id=\"T_f6d48686_ee76_11e8_8197_38d547b56f48row4_col8\" class=\"data row4 col8\" >35</td> \n",
       "        <td id=\"T_f6d48686_ee76_11e8_8197_38d547b56f48row4_col9\" class=\"data row4 col9\" >111.676</td> \n",
       "        <td id=\"T_f6d48686_ee76_11e8_8197_38d547b56f48row4_col10\" class=\"data row4 col10\" >71.7525</td> \n",
       "    </tr>    <tr> \n",
       "        <th id=\"T_f6d48686_ee76_11e8_8197_38d547b56f48level0_row5\" class=\"row_heading level0 row5\" >HDT-D</th> \n",
       "        <td id=\"T_f6d48686_ee76_11e8_8197_38d547b56f48row5_col0\" class=\"data row5 col0\" >HDT-D</td> \n",
       "        <td id=\"T_f6d48686_ee76_11e8_8197_38d547b56f48row5_col1\" class=\"data row5 col1\" >43863</td> \n",
       "        <td id=\"T_f6d48686_ee76_11e8_8197_38d547b56f48row5_col2\" class=\"data row5 col2\" >2451.85</td> \n",
       "        <td id=\"T_f6d48686_ee76_11e8_8197_38d547b56f48row5_col3\" class=\"data row5 col3\" >2.5</td> \n",
       "        <td id=\"T_f6d48686_ee76_11e8_8197_38d547b56f48row5_col4\" class=\"data row5 col4\" >d</td> \n",
       "        <td id=\"T_f6d48686_ee76_11e8_8197_38d547b56f48row5_col5\" class=\"data row5 col5\" >55898</td> \n",
       "        <td id=\"T_f6d48686_ee76_11e8_8197_38d547b56f48row5_col6\" class=\"data row5 col6\" >980.742</td> \n",
       "        <td id=\"T_f6d48686_ee76_11e8_8197_38d547b56f48row5_col7\" class=\"data row5 col7\" >2532.27</td> \n",
       "        <td id=\"T_f6d48686_ee76_11e8_8197_38d547b56f48row5_col8\" class=\"data row5 col8\" >16</td> \n",
       "        <td id=\"T_f6d48686_ee76_11e8_8197_38d547b56f48row5_col9\" class=\"data row5 col9\" >153.241</td> \n",
       "        <td id=\"T_f6d48686_ee76_11e8_8197_38d547b56f48row5_col10\" class=\"data row5 col10\" >98.4586</td> \n",
       "    </tr>    <tr> \n",
       "        <th id=\"T_f6d48686_ee76_11e8_8197_38d547b56f48level0_row6\" class=\"row_heading level0 row6\" >Total</th> \n",
       "        <td id=\"T_f6d48686_ee76_11e8_8197_38d547b56f48row6_col0\" class=\"data row6 col0\" >Total</td> \n",
       "        <td id=\"T_f6d48686_ee76_11e8_8197_38d547b56f48row6_col1\" class=\"data row6 col1\" >3439517</td> \n",
       "        <td id=\"T_f6d48686_ee76_11e8_8197_38d547b56f48row6_col2\" class=\"data row6 col2\" >47595.3</td> \n",
       "        <td id=\"T_f6d48686_ee76_11e8_8197_38d547b56f48row6_col3\" class=\"data row6 col3\" >7.48212</td> \n",
       "        <td id=\"T_f6d48686_ee76_11e8_8197_38d547b56f48row6_col4\" class=\"data row6 col4\" >gd</td> \n",
       "        <td id=\"T_f6d48686_ee76_11e8_8197_38d547b56f48row6_col5\" class=\"data row6 col5\" >13837.8</td> \n",
       "        <td id=\"T_f6d48686_ee76_11e8_8197_38d547b56f48row6_col6\" class=\"data row6 col6\" >6361.2</td> \n",
       "        <td id=\"T_f6d48686_ee76_11e8_8197_38d547b56f48row6_col7\" class=\"data row6 col7\" >14693.3</td> \n",
       "        <td id=\"T_f6d48686_ee76_11e8_8197_38d547b56f48row6_col8\" class=\"data row6 col8\" >90.4373</td> \n",
       "        <td id=\"T_f6d48686_ee76_11e8_8197_38d547b56f48row6_col9\" class=\"data row6 col9\" >819.101</td> \n",
       "        <td id=\"T_f6d48686_ee76_11e8_8197_38d547b56f48row6_col10\" class=\"data row6 col10\" >526.279</td> \n",
       "    </tr></tbody> \n",
       "</table> "
      ],
      "text/plain": [
       "<pandas.io.formats.style.Styler at 0x7f9f037e9ac8>"
      ]
     },
     "metadata": {},
     "output_type": "display_data"
    }
   ],
   "source": [
    "df = utils.data_frame_from_xlsx(\"../Paper_tables.xlsx\",\"fuel_econ\",header_row=True,shorten_names=False,index_col='Type')\n",
    "df = df.style.applymap(lambda x:'font-weight: bold',subset=pd.IndexSlice[df.index[df.index=='Total'], :])\n",
    "display(df)"
   ]
  },
  {
   "cell_type": "markdown",
   "metadata": {},
   "source": [
    "## Section 7 - Acknowledgements\n",
    "\n",
    "Assistance and information provided by the following has been invaluable:\n",
    "\n",
    "  * Jim Patrecky at PDC Machines, regarding the performance of diaphgram H2 compressors.\n",
    "\n",
    "  * Colin Armstrong at HTEC, regarding the capture of industrial byproduct hydrogen, and the siting of fuelling stations.\n",
    "\n",
    "  * Guy Gensey and Nick Clark at the BC Ministry of Energy, Mines, & Petroleum Resources, regarding past and future hydrogen production in BC.\n"
   ]
  },
  {
   "cell_type": "code",
   "execution_count": null,
   "metadata": {},
   "outputs": [],
   "source": []
  }
 ],
 "metadata": {
  "kernelspec": {
   "display_name": "Python 3",
   "language": "python",
   "name": "python3"
  },
  "language_info": {
   "codemirror_mode": {
    "name": "ipython",
    "version": 3
   },
   "file_extension": ".py",
   "mimetype": "text/x-python",
   "name": "python",
   "nbconvert_exporter": "python",
   "pygments_lexer": "ipython3",
   "version": "3.6.4"
  }
 },
 "nbformat": 4,
 "nbformat_minor": 2
}
