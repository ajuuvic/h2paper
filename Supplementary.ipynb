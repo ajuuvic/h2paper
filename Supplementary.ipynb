{
 "cells": [
  {
   "cell_type": "markdown",
   "metadata": {},
   "source": [
    "# Supplementary Materials\n",
    "\n",
    "This notebook contains additional text supporting themes outlined in the paper.  The companion notebook contains code used to generate the tables and plots used in the paper.\n",
    "\n",
    "### Links\n",
    "\n",
    "  * Notebook with [Plots and Tables](Plots.ipynb)\n",
    "      * [Pathways plot](Plots.ipynb#Pathway-Plot) - #error -- No anchors on GitHub"
   ]
  },
  {
   "cell_type": "markdown",
   "metadata": {},
   "source": [
    "# Section 3 - Supplementary Text"
   ]
  },
  {
   "cell_type": "markdown",
   "metadata": {},
   "source": [
    "## Diverted H2 Calcuation\n",
    "\n",
    "$$Q_{proc}\t=\\eta_{boiler}\\times LHV_{H_{2}}\\times M_{H_{2}}\\\\\n",
    "\t=\\eta_{electric}\\times E_{electric}\\\\\n",
    "\\frac{E_{electric}}{M_{H_{2}}}\t=\\frac{\\eta_{boiler}}{\\eta_{electric}}\\times LHV_{H_{2}}\\\\\n",
    "\t\\approx\\frac{80\\%}{100\\%}\\times33.3\\,kWh/kg\\\\\n",
    "\t=27\\,kWh/kg\n",
    "$$    "
   ]
  },
  {
   "cell_type": "markdown",
   "metadata": {},
   "source": [
    "## Steam-Methane Reformation\n",
    "\n",
    "Although the process is not currently in use in BC, 95% of 2014 bulk hydrogen production in the US was created with steam methane reformation, at a cost that varies directly with the cost of feedstock, but in the neighbourhood of C$2.30/kg for centralized production[20].\n",
    "\n",
    "There are three essential elements to a typical implementation of the process: Steam-methane reformation (SMR) to crack the natural gas, the water-gas shift reaction to convert the CO by-product[21], and pressure-swing adsorption (PSA) to separate the H2 gas from the CO2, unreacted water and CO, and any other impurities[22].  These reactions are described thus:\n",
    "\n",
    "\tCH4 + H2O + heat -> CO + 3H2\t(SMR)\n",
    "\tCO+H2O -> CO2 + H2 + heat\t(Gas Shift)\n",
    "\tH2+Others ->(H2) + (Others)\t(PSA)\n",
    "    \n",
    "Clearly, the reformation step emits a molecule of CO2 for every four molecules of H2, implying a theoretical conversion intensity of 7.27 kg CO2/kg H2, exclusive of heat input and energy required for the PSA step – and real values are reported from 8.9 to 12.9 kg CO2eq/kg H2[23].  Praxair, a major producer of hydrogen, suggests that the actual conversion intensity at their Houston plant is at the lower end of this range, at 8.91 kg CO2/kg H2[24].  \n",
    "\n",
    "[20] USDRIVE, “Hydrogen Production Tech Team Roadmap,” no. November, 2017.\n",
    "\n",
    "[21]\tP. Nikolaidis and A. Poullikkas, “A comparative overview of hydrogen production processes,” Renew. Sustain. Energy Rev., vol. 67, pp. 597–611, 2017.\n",
    "\n",
    "[22]\tS.-L. C. Tobias Keller, Linde Engineering & Goutam Shahani, “PSA Technology: Beyond Hydrogen Purification.” .\n",
    "\n",
    "[23]\tR. Bhandari, C. A. Trudewind, and P. Zapp, “Life cycle assessment of hydrogen production via electrolysis–a review,” J. Clean. Prod., vol. 85, pp. 151–163, 2014.\n",
    "\n",
    "[24]\tD. Bonaquist, “Analysis of CO 2 Emissions , Reductions , and Capture for Large-Scale Hydrogen Production Plants,” no. 1, p. 9, 2010."
   ]
  },
  {
   "cell_type": "markdown",
   "metadata": {},
   "source": [
    "## Other Fuels\n",
    "\n",
    "Hydrogen can also be generated from other fuels, although none in production volumes in North America.   The processes reviewed in this section are summarized from [25], and all include both gasification (the high-temperature conversion of the feedstock to simpler gas-phase molecules) and steam reformation (reacting a source gas with water to split a water molecule and provide an additional hydrogen molecule).\n",
    "\n",
    "**Coal Gasification:** Coal is abundant, but has a typical composition of CH0.8.  This relatively high proportion of carbon results in a high rate of carbon emission, barring more effective means of carbon capture than are currently available. \n",
    "\n",
    "**Alcohol Reformation:** Ethanol and methanol have desirable physical characteristics and good energy density, and are a standard carrier for biomass energy.  Biomass conversion is particularly attractive since all directly-released carbon is renewable– it will be reabsorbed when the crop is regrown.  However, this pathway has a relatively high GWP due to (a) high energy input in harvesting and processing the feedstock to alcohol, and (b) land use costs associated with growing the feedstock. Additionally, the agricultural feedstocks use arable land, and tend to compete directly with food crops, resulting in political complications[26].\n",
    "\n",
    "**Biomass Gasification:**  This pathway is the direct gasification of waste biomass such as logging residue and corn stover.  The use of waste biomass addresses many of the problems associated with the alcohol pathway described above.  The remaining impact is due to process energy input – highly dependent on the energy sources used to process the input feedstock.\n",
    "\n",
    "[25] *A. Mehmeti, A. Angelis-Dimakis, G. Arampatzis, S. McPhail, and S. Ulgiati, “Life Cycle Assessment and Water Footprint of Hydrogen Production Methods: From Conventional to Emerging Technologies,” Environments, vol. 5, no. 2, p. 24, 2018.*\n",
    "\n",
    "[26] *J. Popp, Z. Lakner, M. Harangi-Rákos, and M. Fári, “The effect of bioenergy expansion: Food, energy, and environment,” Renew. Sustain. Energy Rev., vol. 32, pp. 559–578, 2014.*"
   ]
  },
  {
   "cell_type": "markdown",
   "metadata": {},
   "source": [
    "## US GWP for H2 Production\n",
    "\n",
    "For the sake of a more general comparison, the table below is extracted from [25].  It shows the full lifecycle (LCA) GWP in terms of kg CO2e per kg of hydrogen, for various production pathways using US grid power.  LCA values are similar to W2W values, but also include the construction and decommissioning of necessary specialized infrastructure and sometimes end-use equipment, assuming a technology life of 20 years. \n",
    "\n",
    "These values are based on various US-based assumptions for the intensity of the feedstock and electrical inputs, and do not attempt to normalize for pressurization energy; output pressures in the source literature referenced by [25] vary from atmospheric to 1000psi – this introduces uncertainty on the order of about 0.3-2 kg CO2e/kg H2, depending on the regional carbon intensity of the electricity used for compression."
   ]
  },
  {
   "cell_type": "code",
   "execution_count": 17,
   "metadata": {},
   "outputs": [
    {
     "data": {
      "text/markdown": [
       "### Table: H2 Production GWP ($kg\\ CO_2e\\ /\\ kg\\ H_2$)"
      ],
      "text/plain": [
       "<IPython.core.display.Markdown object>"
      ]
     },
     "metadata": {},
     "output_type": "display_data"
    },
    {
     "data": {
      "text/html": [
       "<div>\n",
       "<style scoped>\n",
       "    .dataframe tbody tr th:only-of-type {\n",
       "        vertical-align: middle;\n",
       "    }\n",
       "\n",
       "    .dataframe tbody tr th {\n",
       "        vertical-align: top;\n",
       "    }\n",
       "\n",
       "    .dataframe thead th {\n",
       "        text-align: right;\n",
       "    }\n",
       "</style>\n",
       "<table border=\"1\" class=\"dataframe\">\n",
       "  <thead>\n",
       "    <tr style=\"text-align: right;\">\n",
       "      <th></th>\n",
       "      <th>kg</th>\n",
       "      <th>Pathway</th>\n",
       "      <th>Modifier</th>\n",
       "      <th>Description</th>\n",
       "    </tr>\n",
       "  </thead>\n",
       "  <tbody>\n",
       "    <tr>\n",
       "      <th>0</th>\n",
       "      <td>29.54</td>\n",
       "      <td>E-PEM</td>\n",
       "      <td>None</td>\n",
       "      <td>Electrolysis, PEM, grid</td>\n",
       "    </tr>\n",
       "    <tr>\n",
       "      <th>1</th>\n",
       "      <td>24.2</td>\n",
       "      <td>CG</td>\n",
       "      <td>None</td>\n",
       "      <td>Coal gasification</td>\n",
       "    </tr>\n",
       "    <tr>\n",
       "      <th>2</th>\n",
       "      <td>23.32</td>\n",
       "      <td>E-SOEC</td>\n",
       "      <td>None</td>\n",
       "      <td>Electrolysis, SOEC, grid</td>\n",
       "    </tr>\n",
       "    <tr>\n",
       "      <th>3</th>\n",
       "      <td>14.02</td>\n",
       "      <td>BDL-E-W</td>\n",
       "      <td>Wheat</td>\n",
       "      <td>Biomass Reformation - Wheat</td>\n",
       "    </tr>\n",
       "    <tr>\n",
       "      <th>4</th>\n",
       "      <td>12.13</td>\n",
       "      <td>SMR</td>\n",
       "      <td>None</td>\n",
       "      <td>Steam methane reforming</td>\n",
       "    </tr>\n",
       "    <tr>\n",
       "      <th>5</th>\n",
       "      <td>9.193</td>\n",
       "      <td>BDL-E-C</td>\n",
       "      <td>Corn</td>\n",
       "      <td>Biomass Reformation - Corn</td>\n",
       "    </tr>\n",
       "    <tr>\n",
       "      <th>6</th>\n",
       "      <td>5.1</td>\n",
       "      <td>E-SOEC-R</td>\n",
       "      <td>Wind</td>\n",
       "      <td>Electrolysis, SOEC, wind</td>\n",
       "    </tr>\n",
       "    <tr>\n",
       "      <th>7</th>\n",
       "      <td>2.67</td>\n",
       "      <td>BMG</td>\n",
       "      <td>None</td>\n",
       "      <td>Biomass Gasification</td>\n",
       "    </tr>\n",
       "    <tr>\n",
       "      <th>8</th>\n",
       "      <td>2.21</td>\n",
       "      <td>E-PEM-R</td>\n",
       "      <td>Wind</td>\n",
       "      <td>Electrolysis, PEM, wind</td>\n",
       "    </tr>\n",
       "  </tbody>\n",
       "</table>\n",
       "</div>"
      ],
      "text/plain": [
       "0     kg   Pathway Modifier                  Description\n",
       "0  29.54     E-PEM     None      Electrolysis, PEM, grid\n",
       "1   24.2        CG     None            Coal gasification\n",
       "2  23.32    E-SOEC     None     Electrolysis, SOEC, grid\n",
       "3  14.02   BDL-E-W    Wheat  Biomass Reformation - Wheat\n",
       "4  12.13       SMR     None      Steam methane reforming\n",
       "5  9.193   BDL-E-C     Corn   Biomass Reformation - Corn\n",
       "6    5.1  E-SOEC-R     Wind     Electrolysis, SOEC, wind\n",
       "7   2.67       BMG     None         Biomass Gasification\n",
       "8   2.21   E-PEM-R     Wind      Electrolysis, PEM, wind"
      ]
     },
     "execution_count": 17,
     "metadata": {},
     "output_type": "execute_result"
    }
   ],
   "source": [
    "import pandas as pd\n",
    "from IPython.display import display, Markdown, Latex\n",
    "import utils\n",
    "df = utils.data_frame_from_xlsx(\"../Paper_tables.xlsx\",\"us_elec_chart\",True)\n",
    "display(Markdown('### Table: H2 Production GWP ($kg\\ CO_2e\\ /\\ kg\\ H_2$)'))\n",
    "df"
   ]
  },
  {
   "cell_type": "markdown",
   "metadata": {},
   "source": [
    "\n",
    "\n"
   ]
  },
  {
   "cell_type": "code",
   "execution_count": null,
   "metadata": {},
   "outputs": [],
   "source": []
  }
 ],
 "metadata": {
  "kernelspec": {
   "display_name": "Python 3",
   "language": "python",
   "name": "python3"
  },
  "language_info": {
   "codemirror_mode": {
    "name": "ipython",
    "version": 3
   },
   "file_extension": ".py",
   "mimetype": "text/x-python",
   "name": "python",
   "nbconvert_exporter": "python",
   "pygments_lexer": "ipython3",
   "version": "3.6.4"
  }
 },
 "nbformat": 4,
 "nbformat_minor": 2
}
