{
 "cells": [
  {
   "cell_type": "markdown",
   "metadata": {},
   "source": [
    "# Demo issue with anchor links\n",
    "\n",
    "This notebook contains and links to various supporting text, calculations, and python code to supplement the paper.\n",
    "\n",
    "### Demo Links\n",
    "\n",
    "  * Internal links\n",
    "    * [Header 1](#Header1)\n",
    "    * [Cell with explicit anchor](#explicitanchor)\n",
    "  * External Notebook with [Plots and Tables](Plots.ipynb)\n",
    "      * [Direct link to external anchor](Plots.ipynb#Pathway-Plot)\n",
    "      * [Direct link to external explicit anchor](Plots.ipynb#pathplotanchor)"
   ]
  },
  {
   "cell_type": "markdown",
   "metadata": {},
   "source": [
    "# Spacer Cell\n",
    "This cell is very tall in order to make room for the links above to scroll.\n",
    "\n",
    "1 a\n",
    "\n",
    "2 a\n",
    "\n",
    "3 a\n",
    "\n",
    "4 a\n",
    "\n",
    "5 a\n",
    "\n",
    "6 a\n",
    "\n",
    "7 a\n",
    "\n",
    "8 a\n",
    "\n",
    "9 a\n",
    "\n",
    "0 a\n",
    "\n",
    "1\n",
    "\n",
    "2\n",
    "\n",
    "3\n",
    "\n",
    "4\n",
    "\n",
    "5\n",
    "\n",
    "6\n",
    "\n",
    "7\n",
    "\n",
    "8\n",
    "\n",
    "9\n",
    "\n",
    "0 a\n",
    "\n"
   ]
  },
  {
   "cell_type": "markdown",
   "metadata": {},
   "source": [
    "# Header1\n",
    "\n",
    "Because of the header element, this cell has an implied anchor link of \"#Header1\"."
   ]
  },
  {
   "cell_type": "markdown",
   "metadata": {},
   "source": [
    "# Cell with Anchor\n",
    "This cell contains a explicit anchor link #explicitanchor\n",
    "<a id=\"explicitanchor\"></a>"
   ]
  },
  {
   "cell_type": "code",
   "execution_count": null,
   "metadata": {},
   "outputs": [],
   "source": []
  }
 ],
 "metadata": {
  "kernelspec": {
   "display_name": "Python 3",
   "language": "python",
   "name": "python3"
  },
  "language_info": {
   "codemirror_mode": {
    "name": "ipython",
    "version": 3
   },
   "file_extension": ".py",
   "mimetype": "text/x-python",
   "name": "python",
   "nbconvert_exporter": "python",
   "pygments_lexer": "ipython3",
   "version": "3.6.4"
  }
 },
 "nbformat": 4,
 "nbformat_minor": 2
}
